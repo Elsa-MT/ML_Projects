{
 "cells": [
  {
   "cell_type": "markdown",
   "id": "2436c155",
   "metadata": {},
   "source": [
    "# TF-IDF"
   ]
  },
  {
   "cell_type": "code",
   "execution_count": 30,
   "id": "a93d1c04",
   "metadata": {},
   "outputs": [
    {
     "data": {
      "text/plain": [
       "['Gangs of Wasseypur is a great movie. Wasseypur is a town in Bihar',\n",
       " 'The success of a song depends on the music',\n",
       " 'There is a movie releasing this week. The movie is fun to watch']"
      ]
     },
     "execution_count": 30,
     "metadata": {},
     "output_type": "execute_result"
    }
   ],
   "source": [
    "Doc1 = 'Gangs of Wasseypur is a great movie. Wasseypur is a town in Bihar'\n",
    "Doc2 = 'The success of a song depends on the music'\n",
    "Doc3 = 'There is a movie releasing this week. The movie is fun to watch'\n",
    "corpus = [Doc1,Doc2,Doc3]\n",
    "corpus"
   ]
  },
  {
   "cell_type": "markdown",
   "id": "4beaaac1",
   "metadata": {},
   "source": [
    "# Preprocessing"
   ]
  },
  {
   "cell_type": "markdown",
   "id": "42ce5973",
   "metadata": {},
   "source": [
    "## 1. Case folding"
   ]
  },
  {
   "cell_type": "code",
   "execution_count": 31,
   "id": "de4b5d01",
   "metadata": {},
   "outputs": [
    {
     "name": "stdout",
     "output_type": "stream",
     "text": [
      "['gangs of wasseypur is a great movie. wasseypur is a town in bihar', 'the success of a song depends on the music', 'there is a movie releasing this week. the movie is fun to watch']\n"
     ]
    }
   ],
   "source": [
    "updated_corpus = []\n",
    "for i in corpus:\n",
    "    updated_corpus.append(i.casefold())\n",
    "print(updated_corpus)"
   ]
  },
  {
   "cell_type": "markdown",
   "id": "e59b53c4",
   "metadata": {},
   "source": [
    "## 2. Tokenize"
   ]
  },
  {
   "cell_type": "code",
   "execution_count": 32,
   "id": "22d10a01",
   "metadata": {},
   "outputs": [
    {
     "name": "stderr",
     "output_type": "stream",
     "text": [
      "[nltk_data] Error loading punkt: <urlopen error [Errno 11001]\n",
      "[nltk_data]     getaddrinfo failed>\n"
     ]
    },
    {
     "data": {
      "text/plain": [
       "False"
      ]
     },
     "execution_count": 32,
     "metadata": {},
     "output_type": "execute_result"
    }
   ],
   "source": [
    "import nltk\n",
    "#nltk.download('punkt')"
   ]
  },
  {
   "cell_type": "code",
   "execution_count": 33,
   "id": "72aae0e1",
   "metadata": {},
   "outputs": [
    {
     "name": "stdout",
     "output_type": "stream",
     "text": [
      "[['gangs', 'of', 'wasseypur', 'is', 'a', 'great', 'movie', '.', 'wasseypur', 'is', 'a', 'town', 'in', 'bihar'], ['the', 'success', 'of', 'a', 'song', 'depends', 'on', 'the', 'music'], ['there', 'is', 'a', 'movie', 'releasing', 'this', 'week', '.', 'the', 'movie', 'is', 'fun', 'to', 'watch']]\n"
     ]
    }
   ],
   "source": [
    "from nltk import word_tokenize\n",
    "tokenized_list = []\n",
    "for i in updated_corpus:\n",
    "    tokenized_list.append(word_tokenize(i))\n",
    "print(tokenized_list)"
   ]
  },
  {
   "cell_type": "markdown",
   "id": "79642976",
   "metadata": {},
   "source": [
    "## 3. Stopwords Removal"
   ]
  },
  {
   "cell_type": "code",
   "execution_count": 34,
   "id": "cf3495b0",
   "metadata": {},
   "outputs": [],
   "source": [
    "from nltk.corpus import stopwords\n",
    "#nltk.download('stopwords')"
   ]
  },
  {
   "cell_type": "code",
   "execution_count": 42,
   "id": "75ce7e83",
   "metadata": {},
   "outputs": [
    {
     "name": "stdout",
     "output_type": "stream",
     "text": [
      "[['gangs', 'wasseypur', 'great', 'movie', 'wasseypur', 'town', 'bihar'], ['success', 'song', 'depends', 'music'], ['movie', 'releasing', 'week', 'movie', 'fun', 'watch']]\n"
     ]
    }
   ],
   "source": [
    "stop_words = set(stopwords.words('english'))\n",
    "clear_words =[]\n",
    "punct = '.!,'\n",
    "for i in tokenized_list:\n",
    "    clean_doc = []\n",
    "    for j in i:\n",
    "        if j not in stop_words and j not in punct:\n",
    "            clean_doc.append(j)\n",
    "    clear_words.append(clean_doc)\n",
    "print(clear_words)"
   ]
  },
  {
   "cell_type": "markdown",
   "id": "b440873e",
   "metadata": {},
   "source": [
    "## 4. Stemming"
   ]
  },
  {
   "cell_type": "code",
   "execution_count": 36,
   "id": "4a7492f0",
   "metadata": {},
   "outputs": [],
   "source": [
    "from nltk.stem import PorterStemmer"
   ]
  },
  {
   "cell_type": "code",
   "execution_count": 43,
   "id": "8d7c044c",
   "metadata": {},
   "outputs": [
    {
     "name": "stdout",
     "output_type": "stream",
     "text": [
      "[['gang', 'wasseypur', 'great', 'movi', 'wasseypur', 'town', 'bihar'], ['success', 'song', 'depend', 'music'], ['movi', 'releas', 'week', 'movi', 'fun', 'watch']]\n"
     ]
    }
   ],
   "source": [
    "stemmed_words = []\n",
    "for i in clear_words:\n",
    "    stem_doc = []\n",
    "    for j in i:\n",
    "        word = PorterStemmer().stem(j)\n",
    "        stem_doc.append(word)\n",
    "    stemmed_words.append(stem_doc)\n",
    "print(stemmed_words)"
   ]
  },
  {
   "cell_type": "markdown",
   "id": "61b2b69c",
   "metadata": {},
   "source": [
    "## 5. Frequency Count"
   ]
  },
  {
   "cell_type": "code",
   "execution_count": 38,
   "id": "6441c3f3",
   "metadata": {},
   "outputs": [],
   "source": [
    "from sklearn.feature_extraction.text import CountVectorizer\n",
    "from sklearn.feature_extraction.text import TfidfTransformer"
   ]
  },
  {
   "cell_type": "code",
   "execution_count": 49,
   "id": "30596c8d",
   "metadata": {},
   "outputs": [
    {
     "data": {
      "text/plain": [
       "['bihar',\n",
       " 'depend',\n",
       " 'fun',\n",
       " 'gang',\n",
       " 'great',\n",
       " 'movi',\n",
       " 'music',\n",
       " 'releas',\n",
       " 'song',\n",
       " 'success',\n",
       " 'town',\n",
       " 'wasseypur',\n",
       " 'watch',\n",
       " 'week']"
      ]
     },
     "execution_count": 49,
     "metadata": {},
     "output_type": "execute_result"
    }
   ],
   "source": [
    "def duplicate(doc):\n",
    "    return doc\n",
    "count_words = CountVectorizer(tokenizer = duplicate,preprocessor=duplicate)\n",
    "word_count_vector = count_words.fit_transform(stemmed_words)\n",
    "count_words.get_feature_names()"
   ]
  },
  {
   "cell_type": "code",
   "execution_count": 50,
   "id": "9f2d6e1b",
   "metadata": {},
   "outputs": [
    {
     "data": {
      "text/plain": [
       "array([[1, 0, 0, 1, 1, 1, 0, 0, 0, 0, 1, 2, 0, 0],\n",
       "       [0, 1, 0, 0, 0, 0, 1, 0, 1, 1, 0, 0, 0, 0],\n",
       "       [0, 0, 1, 0, 0, 2, 0, 1, 0, 0, 0, 0, 1, 1]], dtype=int64)"
      ]
     },
     "execution_count": 50,
     "metadata": {},
     "output_type": "execute_result"
    }
   ],
   "source": [
    "word_count_vector.toarray()"
   ]
  },
  {
   "cell_type": "markdown",
   "id": "5599a582",
   "metadata": {},
   "source": [
    "## 6. TF - IDF MATRIX"
   ]
  },
  {
   "cell_type": "code",
   "execution_count": 54,
   "id": "350f52a6",
   "metadata": {},
   "outputs": [
    {
     "data": {
      "text/plain": [
       "array([1.69314718, 1.69314718, 1.69314718, 1.69314718, 1.69314718,\n",
       "       1.28768207, 1.69314718, 1.69314718, 1.69314718, 1.69314718,\n",
       "       1.69314718, 1.69314718, 1.69314718, 1.69314718])"
      ]
     },
     "execution_count": 54,
     "metadata": {},
     "output_type": "execute_result"
    }
   ],
   "source": [
    "tfidf_conv = TfidfTransformer(smooth_idf=True,use_idf=True)\n",
    "tfidf_conv_fit = tfidf_conv.fit(word_count_vector)\n",
    "tfidf_conv.idf_"
   ]
  },
  {
   "cell_type": "code",
   "execution_count": 55,
   "id": "2e2a8c31",
   "metadata": {},
   "outputs": [
    {
     "data": {
      "text/plain": [
       "array([[0.34142622, 0.        , 0.        , 0.34142622, 0.34142622,\n",
       "        0.25966344, 0.        , 0.        , 0.        , 0.        ,\n",
       "        0.34142622, 0.68285244, 0.        , 0.        ],\n",
       "       [0.        , 0.5       , 0.        , 0.        , 0.        ,\n",
       "        0.        , 0.5       , 0.        , 0.5       , 0.5       ,\n",
       "        0.        , 0.        , 0.        , 0.        ],\n",
       "       [0.        , 0.        , 0.39798027, 0.        , 0.        ,\n",
       "        0.60534851, 0.        , 0.39798027, 0.        , 0.        ,\n",
       "        0.        , 0.        , 0.39798027, 0.39798027]])"
      ]
     },
     "execution_count": 55,
     "metadata": {},
     "output_type": "execute_result"
    }
   ],
   "source": [
    "tfidf_vector = tfidf_conv_fit.transform(word_count_vector)\n",
    "tfidf_vector.toarray()"
   ]
  },
  {
   "cell_type": "markdown",
   "id": "951b9314",
   "metadata": {},
   "source": [
    "## 7. Dataframe using Pandas"
   ]
  },
  {
   "cell_type": "code",
   "execution_count": 56,
   "id": "62561aad",
   "metadata": {},
   "outputs": [],
   "source": [
    "import pandas "
   ]
  },
  {
   "cell_type": "code",
   "execution_count": 64,
   "id": "e0fb3625",
   "metadata": {},
   "outputs": [
    {
     "data": {
      "text/html": [
       "<div>\n",
       "<style scoped>\n",
       "    .dataframe tbody tr th:only-of-type {\n",
       "        vertical-align: middle;\n",
       "    }\n",
       "\n",
       "    .dataframe tbody tr th {\n",
       "        vertical-align: top;\n",
       "    }\n",
       "\n",
       "    .dataframe thead th {\n",
       "        text-align: right;\n",
       "    }\n",
       "</style>\n",
       "<table border=\"1\" class=\"dataframe\">\n",
       "  <thead>\n",
       "    <tr style=\"text-align: right;\">\n",
       "      <th></th>\n",
       "      <th>bihar</th>\n",
       "      <th>depend</th>\n",
       "      <th>fun</th>\n",
       "      <th>gang</th>\n",
       "      <th>great</th>\n",
       "      <th>movi</th>\n",
       "      <th>music</th>\n",
       "      <th>releas</th>\n",
       "      <th>song</th>\n",
       "      <th>success</th>\n",
       "      <th>town</th>\n",
       "      <th>wasseypur</th>\n",
       "      <th>watch</th>\n",
       "      <th>week</th>\n",
       "    </tr>\n",
       "  </thead>\n",
       "  <tbody>\n",
       "    <tr>\n",
       "      <th>doc</th>\n",
       "      <td>0.341426</td>\n",
       "      <td>0.0</td>\n",
       "      <td>0.00000</td>\n",
       "      <td>0.341426</td>\n",
       "      <td>0.341426</td>\n",
       "      <td>0.259663</td>\n",
       "      <td>0.0</td>\n",
       "      <td>0.00000</td>\n",
       "      <td>0.0</td>\n",
       "      <td>0.0</td>\n",
       "      <td>0.341426</td>\n",
       "      <td>0.682852</td>\n",
       "      <td>0.00000</td>\n",
       "      <td>0.00000</td>\n",
       "    </tr>\n",
       "    <tr>\n",
       "      <th>1</th>\n",
       "      <td>0.000000</td>\n",
       "      <td>0.5</td>\n",
       "      <td>0.00000</td>\n",
       "      <td>0.000000</td>\n",
       "      <td>0.000000</td>\n",
       "      <td>0.000000</td>\n",
       "      <td>0.5</td>\n",
       "      <td>0.00000</td>\n",
       "      <td>0.5</td>\n",
       "      <td>0.5</td>\n",
       "      <td>0.000000</td>\n",
       "      <td>0.000000</td>\n",
       "      <td>0.00000</td>\n",
       "      <td>0.00000</td>\n",
       "    </tr>\n",
       "    <tr>\n",
       "      <th>tf-idf</th>\n",
       "      <td>0.000000</td>\n",
       "      <td>0.0</td>\n",
       "      <td>0.39798</td>\n",
       "      <td>0.000000</td>\n",
       "      <td>0.000000</td>\n",
       "      <td>0.605349</td>\n",
       "      <td>0.0</td>\n",
       "      <td>0.39798</td>\n",
       "      <td>0.0</td>\n",
       "      <td>0.0</td>\n",
       "      <td>0.000000</td>\n",
       "      <td>0.000000</td>\n",
       "      <td>0.39798</td>\n",
       "      <td>0.39798</td>\n",
       "    </tr>\n",
       "  </tbody>\n",
       "</table>\n",
       "</div>"
      ],
      "text/plain": [
       "           bihar  depend      fun      gang     great      movi  music  \\\n",
       "doc     0.341426     0.0  0.00000  0.341426  0.341426  0.259663    0.0   \n",
       "1       0.000000     0.5  0.00000  0.000000  0.000000  0.000000    0.5   \n",
       "tf-idf  0.000000     0.0  0.39798  0.000000  0.000000  0.605349    0.0   \n",
       "\n",
       "         releas  song  success      town  wasseypur    watch     week  \n",
       "doc     0.00000   0.0      0.0  0.341426   0.682852  0.00000  0.00000  \n",
       "1       0.00000   0.5      0.5  0.000000   0.000000  0.00000  0.00000  \n",
       "tf-idf  0.39798   0.0      0.0  0.000000   0.000000  0.39798  0.39798  "
      ]
     },
     "execution_count": 64,
     "metadata": {},
     "output_type": "execute_result"
    }
   ],
   "source": [
    "names = count_words.get_feature_names()\n",
    "dataframe = pandas.DataFrame\n",
    "\n",
    "def ind(n):\n",
    "    for i in range(1,n+1):\n",
    "        return('doc',i,'tf-idf')\n",
    "    \n",
    "dataframe = pandas.DataFrame(tfidf_vector.toarray(),index=ind(len(corpus)),columns=names)\n",
    "dataframe"
   ]
  },
  {
   "cell_type": "code",
   "execution_count": null,
   "id": "cec19130",
   "metadata": {},
   "outputs": [],
   "source": []
  }
 ],
 "metadata": {
  "kernelspec": {
   "display_name": "Python 3",
   "language": "python",
   "name": "python3"
  },
  "language_info": {
   "codemirror_mode": {
    "name": "ipython",
    "version": 3
   },
   "file_extension": ".py",
   "mimetype": "text/x-python",
   "name": "python",
   "nbconvert_exporter": "python",
   "pygments_lexer": "ipython3",
   "version": "3.8.8"
  }
 },
 "nbformat": 4,
 "nbformat_minor": 5
}
