{
 "cells": [
  {
   "cell_type": "code",
   "execution_count": 70,
   "metadata": {},
   "outputs": [],
   "source": [
    "from nltk import WordNetLemmatizer\n",
    "from nltk.tokenize import word_tokenize\n",
    "from nltk.corpus import stopwords\n",
    "from nltk import ngrams\n",
    "from string import punctuation\n",
    "from nltk import FreqDist\n",
    "from collections import Counter"
   ]
  },
  {
   "cell_type": "markdown",
   "metadata": {},
   "source": [
    "### Train Data"
   ]
  },
  {
   "cell_type": "code",
   "execution_count": 4,
   "metadata": {},
   "outputs": [],
   "source": [
    "train = '''One of the great things about being able to choose your own courses is that you get the opportunity to explore. You can try classes in a lot of different subjects, or you can dive right into a favorite subject. You may choose to begin training for a career right away. Or you may pick a major after taking some time to check out your options. Colleges offer classes and majors in subjects you’ve studied in high school — plus many more that you haven’t.'''"
   ]
  },
  {
   "cell_type": "markdown",
   "metadata": {},
   "source": [
    "### CaseFold"
   ]
  },
  {
   "cell_type": "code",
   "execution_count": 12,
   "metadata": {},
   "outputs": [],
   "source": [
    "train_folded = train.casefold()"
   ]
  },
  {
   "cell_type": "markdown",
   "metadata": {},
   "source": [
    "### Tokenizer"
   ]
  },
  {
   "cell_type": "code",
   "execution_count": 13,
   "metadata": {},
   "outputs": [
    {
     "name": "stdout",
     "output_type": "stream",
     "text": [
      "['one', 'of', 'the', 'great', 'things', 'about', 'being', 'able', 'to', 'choose', 'your', 'own', 'courses', 'is', 'that', 'you', 'get', 'the', 'opportunity', 'to', 'explore', '.', 'you', 'can', 'try', 'classes', 'in', 'a', 'lot', 'of', 'different', 'subjects', ',', 'or', 'you', 'can', 'dive', 'right', 'into', 'a', 'favorite', 'subject', '.', 'you', 'may', 'choose', 'to', 'begin', 'training', 'for', 'a', 'career', 'right', 'away', '.', 'or', 'you', 'may', 'pick', 'a', 'major', 'after', 'taking', 'some', 'time', 'to', 'check', 'out', 'your', 'options', '.', 'colleges', 'offer', 'classes', 'and', 'majors', 'in', 'subjects', 'you', '’', 've', 'studied', 'in', 'high', 'school', '—', 'plus', 'many', 'more', 'that', 'you', 'haven', '’', 't', '.']\n"
     ]
    }
   ],
   "source": [
    "train_token = word_tokenize(train_folded)\n",
    "print(train_token)"
   ]
  },
  {
   "cell_type": "markdown",
   "metadata": {},
   "source": [
    "### StopWords Removal "
   ]
  },
  {
   "cell_type": "code",
   "execution_count": 44,
   "metadata": {},
   "outputs": [
    {
     "name": "stdout",
     "output_type": "stream",
     "text": [
      "['one', 'great', 'things', 'able', 'choose', 'courses', 'get', 'opportunity', 'explore', 'try', 'classes', 'lot', 'different', 'subjects', 'dive', 'right', 'favorite', 'subject', 'may', 'choose', 'begin', 'training', 'career', 'right', 'away', 'may', 'pick', 'major', 'taking', 'time', 'check', 'options', 'colleges', 'offer', 'classes', 'majors', 'subjects', 'studied', 'high', 'school', 'plus', 'many']\n"
     ]
    }
   ],
   "source": [
    "stop_words = set(stopwords.words('english'))\n",
    "\n",
    "train_filtered = []\n",
    "for word in train_token:\n",
    "    if word not in stop_words and word not in punctuation+\"’\"+'\"'+'\"'+'-'+'''+'''+'—':\n",
    "        train_filtered.append(word)\n",
    "print(train_filtered)"
   ]
  },
  {
   "cell_type": "markdown",
   "metadata": {},
   "source": [
    "### Lemmatizer"
   ]
  },
  {
   "cell_type": "code",
   "execution_count": 11,
   "metadata": {},
   "outputs": [
    {
     "name": "stdout",
     "output_type": "stream",
     "text": [
      "['one', 'great', 'thing', 'able', 'choose', 'course', 'get', 'opportunity', 'explore', 'try', 'class', 'lot', 'different', 'subject', 'dive', 'right', 'favorite', 'subject', 'may', 'choose', 'begin', 'training', 'career', 'right', 'away', 'may', 'pick', 'major', 'taking', 'time', 'check', 'option', 'college', 'offer', 'class', 'major', 'subject', 'studied', 'high', 'school', 'plus', 'many']\n"
     ]
    }
   ],
   "source": [
    "lemma = WordNetLemmatizer()\n",
    "train_lem = []\n",
    "for word in train_filtered:\n",
    "    train_lem.append(lemma.lemmatize(word))\n",
    "print(train_lem)"
   ]
  },
  {
   "cell_type": "markdown",
   "metadata": {},
   "source": [
    "## N-Grams"
   ]
  },
  {
   "cell_type": "code",
   "execution_count": 35,
   "metadata": {},
   "outputs": [],
   "source": [
    "def generate_N_grams(words,ngram=1):\n",
    "    # Generate list of copies of words with each element length less than the previous element.\n",
    "    terms = [words[i:] for i in range(0,ngram)]\n",
    "    \n",
    "    #Combines the lists to a set of specified ngrams\n",
    "    temp = zip(*terms) # * specifies that terms have multiple elements.\n",
    "    \n",
    "    rs = [' '.join(ngram) for ngram in temp] #Combines the set with a space to make the specified ngram list\n",
    "    return rs"
   ]
  },
  {
   "cell_type": "code",
   "execution_count": 39,
   "metadata": {},
   "outputs": [
    {
     "name": "stdout",
     "output_type": "stream",
     "text": [
      "['one', 'great', 'thing', 'able', 'choose', 'course', 'get', 'opportunity', 'explore', 'try', 'class', 'lot', 'different', 'subject', 'dive', 'right', 'favorite', 'subject', 'may', 'choose', 'begin', 'training', 'career', 'right', 'away', 'may', 'pick', 'major', 'taking', 'time', 'check', 'option', 'college', 'offer', 'class', 'major', 'subject', 'studied', 'high', 'school', 'plus', 'many']\n"
     ]
    }
   ],
   "source": [
    "#Unigram\n",
    "train_unigram = generate_N_grams(train_lem,1)\n",
    "print(train_unigram)"
   ]
  },
  {
   "cell_type": "code",
   "execution_count": 40,
   "metadata": {},
   "outputs": [
    {
     "name": "stdout",
     "output_type": "stream",
     "text": [
      "['one', 'great', 'thing', 'able', 'choose', 'course', 'get', 'opportunity', 'explore', 'try', 'class', 'lot', 'different', 'subject', 'dive', 'right', 'favorite', 'subject', 'may', 'choose', 'begin', 'training', 'career', 'right', 'away', 'may', 'pick', 'major', 'taking', 'time', 'check', 'option', 'college', 'offer', 'class', 'major', 'subject', 'studied', 'high', 'school', 'plus', 'many']\n"
     ]
    }
   ],
   "source": [
    "#Bigram\n",
    "train_bigram = generate_N_grams(train_lem,2)\n",
    "print(train_unigram)"
   ]
  },
  {
   "cell_type": "code",
   "execution_count": 41,
   "metadata": {},
   "outputs": [
    {
     "name": "stdout",
     "output_type": "stream",
     "text": [
      "['one great thing', 'great thing able', 'thing able choose', 'able choose course', 'choose course get', 'course get opportunity', 'get opportunity explore', 'opportunity explore try', 'explore try class', 'try class lot', 'class lot different', 'lot different subject', 'different subject dive', 'subject dive right', 'dive right favorite', 'right favorite subject', 'favorite subject may', 'subject may choose', 'may choose begin', 'choose begin training', 'begin training career', 'training career right', 'career right away', 'right away may', 'away may pick', 'may pick major', 'pick major taking', 'major taking time', 'taking time check', 'time check option', 'check option college', 'option college offer', 'college offer class', 'offer class major', 'class major subject', 'major subject studied', 'subject studied high', 'studied high school', 'high school plus', 'school plus many']\n"
     ]
    }
   ],
   "source": [
    "#Trigram\n",
    "train_trigram = generate_N_grams(train_lem,3)\n",
    "print(train_trigram)"
   ]
  },
  {
   "cell_type": "code",
   "execution_count": 46,
   "metadata": {},
   "outputs": [],
   "source": [
    "# generate frequency of n-grams\n",
    "freq_bi = FreqDist(train_bigram)\n",
    "freq_tri = FreqDist(train_trigram)"
   ]
  },
  {
   "cell_type": "code",
   "execution_count": 49,
   "metadata": {},
   "outputs": [
    {
     "data": {
      "text/plain": [
       "FreqDist({'one great thing': 1, 'great thing able': 1, 'thing able choose': 1, 'able choose course': 1, 'choose course get': 1, 'course get opportunity': 1, 'get opportunity explore': 1, 'opportunity explore try': 1, 'explore try class': 1, 'try class lot': 1, ...})"
      ]
     },
     "execution_count": 49,
     "metadata": {},
     "output_type": "execute_result"
    }
   ],
   "source": [
    "freq_tri"
   ]
  },
  {
   "cell_type": "code",
   "execution_count": 71,
   "metadata": {},
   "outputs": [],
   "source": [
    "d = Counter()\n",
    "for el in freq_tri:\n",
    "    sub_el = ' '.join(el.split(' ')[:-1])\n",
    "    d[sub_el] += freq_tri[el]"
   ]
  },
  {
   "cell_type": "code",
   "execution_count": 72,
   "metadata": {},
   "outputs": [
    {
     "name": "stdout",
     "output_type": "stream",
     "text": [
      "Counter({'one great': 1, 'great thing': 1, 'thing able': 1, 'able choose': 1, 'choose course': 1, 'course get': 1, 'get opportunity': 1, 'opportunity explore': 1, 'explore try': 1, 'try class': 1, 'class lot': 1, 'lot different': 1, 'different subject': 1, 'subject dive': 1, 'dive right': 1, 'right favorite': 1, 'favorite subject': 1, 'subject may': 1, 'may choose': 1, 'choose begin': 1, 'begin training': 1, 'training career': 1, 'career right': 1, 'right away': 1, 'away may': 1, 'may pick': 1, 'pick major': 1, 'major taking': 1, 'taking time': 1, 'time check': 1, 'check option': 1, 'option college': 1, 'college offer': 1, 'offer class': 1, 'class major': 1, 'major subject': 1, 'subject studied': 1, 'studied high': 1, 'high school': 1, 'school plus': 1})\n"
     ]
    }
   ],
   "source": [
    "print(d)"
   ]
  },
  {
   "cell_type": "code",
   "execution_count": null,
   "metadata": {},
   "outputs": [],
   "source": []
  },
  {
   "cell_type": "code",
   "execution_count": null,
   "metadata": {},
   "outputs": [],
   "source": []
  },
  {
   "cell_type": "code",
   "execution_count": null,
   "metadata": {},
   "outputs": [],
   "source": []
  },
  {
   "cell_type": "code",
   "execution_count": null,
   "metadata": {},
   "outputs": [],
   "source": []
  },
  {
   "cell_type": "code",
   "execution_count": null,
   "metadata": {},
   "outputs": [],
   "source": []
  },
  {
   "cell_type": "code",
   "execution_count": null,
   "metadata": {},
   "outputs": [],
   "source": []
  },
  {
   "cell_type": "code",
   "execution_count": null,
   "metadata": {},
   "outputs": [],
   "source": []
  }
 ],
 "metadata": {
  "kernelspec": {
   "display_name": "Python 3",
   "language": "python",
   "name": "python3"
  },
  "language_info": {
   "codemirror_mode": {
    "name": "ipython",
    "version": 3
   },
   "file_extension": ".py",
   "mimetype": "text/x-python",
   "name": "python",
   "nbconvert_exporter": "python",
   "pygments_lexer": "ipython3",
   "version": "3.8.3"
  }
 },
 "nbformat": 4,
 "nbformat_minor": 4
}
